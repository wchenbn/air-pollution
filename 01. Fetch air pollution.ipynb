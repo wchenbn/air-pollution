{
 "cells": [
  {
   "cell_type": "code",
   "execution_count": null,
   "metadata": {},
   "outputs": [],
   "source": [
    "import requests\n",
    "import time\n",
    "from datetime import datetime, timedelta\n",
    "from pytz import timezone\n",
    "from copy import deepcopy\n",
    "import pandas as pd"
   ]
  },
  {
   "cell_type": "code",
   "execution_count": null,
   "metadata": {},
   "outputs": [],
   "source": [
    "pollutants = ['PM10', 'PM25', 'O3', 'CO', 'NO2', 'SO2']\n",
    "stations = ['Karpos', 'Centar', 'GaziBaba', 'Lisice', 'Rektorat', 'Miladinovci']"
   ]
  },
  {
   "cell_type": "code",
   "execution_count": null,
   "metadata": {},
   "outputs": [],
   "source": [
    "date_start = datetime(2000, 1, 1, 0, 0, 0)\n",
    "date_end = datetime(2020, 4, 1, 0, 0, 0)\n",
    "period = timedelta(days=150)\n",
    "offset = timedelta(seconds=1)"
   ]
  },
  {
   "cell_type": "code",
   "execution_count": null,
   "metadata": {
    "scrolled": true
   },
   "outputs": [],
   "source": [
    "sleep_time = 5\n",
    "\n",
    "for station in stations:\n",
    "    for pollutant in pollutants:\n",
    "        results = []\n",
    "        curr_start = deepcopy(date_start)\n",
    "        while curr_start < date_end:\n",
    "            try:\n",
    "                time.sleep(5)\n",
    "                \n",
    "                curr_end = curr_start + period - offset\n",
    "                print(curr_start.strftime(\"%d/%m/%Y, %H:%M:%S\"), '-', curr_end.strftime(\"%d/%m/%Y, %H:%M:%S\"), \n",
    "                     station, pollutant)\n",
    "\n",
    "                URL = f'http://air.moepp.gov.mk/graphs/site/pages/MakeGraph.php?station={station}'+\\\n",
    "                      f'&parameter={pollutant}'+\\\n",
    "                      f'&beginDate={curr_start.strftime(\"%Y-%m-%d\")}'+\\\n",
    "                      f'&beginTime={curr_start.strftime(\"%H:%M\")}'+\\\n",
    "                      f'&endDate={curr_end.strftime(\"%Y-%m-%d\")}'+\\\n",
    "                      f'&endTime={curr_end.strftime(\"%H:%M\")}'+\\\n",
    "                      f'&i=1585697894082&lang=mk'\n",
    "\n",
    "                curr_start += period\n",
    "\n",
    "                r = requests.get(url = URL) \n",
    "                data = r.json()\n",
    "\n",
    "                # sanity check to make sure the json has all the expected fields \n",
    "                if 'measurements' not in data or len(data['measurements']) == 0 \\\n",
    "                    or 'data' not in data['measurements'][0]:\n",
    "                    continue\n",
    "\n",
    "                measurements = data['measurements'][0]['data']\n",
    "                timestamps = data['times']\n",
    "\n",
    "                rows = list(zip(timestamps, measurements))\n",
    "                results.extend(rows)\n",
    "                \n",
    "                time_sleep = 5\n",
    "            \n",
    "            except Exception as e:\n",
    "                print(e)\n",
    "                time.sleep(sleep_time)\n",
    "                sleep_time += 5\n",
    "                \n",
    "                  \n",
    "        \n",
    "        with open(f'data/raw-sensor/{station}_{pollutant}', 'w+') as f:\n",
    "            f.write('Timestamp,Value\\n')\n",
    "            for timestamp, value in results:\n",
    "                f.write(f'{timestamp},{value}\\n')\n",
    "    "
   ]
  }
 ],
 "metadata": {
  "kernelspec": {
   "display_name": "Python 3.6 (tensorflow)",
   "language": "python",
   "name": "tensorflow"
  },
  "language_info": {
   "codemirror_mode": {
    "name": "ipython",
    "version": 3
   },
   "file_extension": ".py",
   "mimetype": "text/x-python",
   "name": "python",
   "nbconvert_exporter": "python",
   "pygments_lexer": "ipython3",
   "version": "3.6.10"
  }
 },
 "nbformat": 4,
 "nbformat_minor": 4
}
