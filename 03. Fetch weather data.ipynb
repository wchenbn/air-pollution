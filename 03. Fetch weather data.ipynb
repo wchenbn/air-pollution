{
 "cells": [
  {
   "cell_type": "code",
   "execution_count": null,
   "metadata": {},
   "outputs": [],
   "source": [
    "import requests\n",
    "from datetime import datetime, timedelta\n",
    "from copy import deepcopy\n",
    "import time\n",
    "import json\n",
    "import pandas as pd\n",
    "import numpy as np"
   ]
  },
  {
   "cell_type": "markdown",
   "metadata": {},
   "source": [
    "### Fetch the weather data"
   ]
  },
  {
   "cell_type": "code",
   "execution_count": null,
   "metadata": {},
   "outputs": [],
   "source": [
    "API_KEY = 'API-KEY'\n",
    "end_date = datetime(2020, 4, 1)\n",
    "period = timedelta(days=1)\n",
    "sleep_time = 5"
   ]
  },
  {
   "cell_type": "code",
   "execution_count": null,
   "metadata": {},
   "outputs": [],
   "source": [
    "stations = {'Karpos': (42.00666664, 21.38694446, datetime(2011, 7, 24)), \n",
    "            'Centar': (41.99249998, 21.4236110, datetime(2011, 7, 24)), \n",
    "            'Lisice': (41.9783, 21.47, datetime(2007, 10, 12)), \n",
    "            'Rektorat': (41.9992, 21.4408, datetime(2005, 2, 18)), \n",
    "            'Miladinovci': (41.9875, 21.6525, datetime(2008, 11, 29))}"
   ]
  },
  {
   "cell_type": "code",
   "execution_count": null,
   "metadata": {
    "scrolled": true
   },
   "outputs": [],
   "source": [
    "for station, (latitude, longitude, start_date) in stations.items():\n",
    "    curr_date = deepcopy(start_date)\n",
    "    f = open(f'./data/raw-weather/{station}', 'a')\n",
    "\n",
    "    while curr_date <= end_date:\n",
    "        try:\n",
    "            time.sleep(0.2)\n",
    "            dt = curr_date.strftime(\"%Y-%m-%dT%H:%M:%S\")\n",
    "            print(dt, station)\n",
    "\n",
    "            url = f'https://api.darksky.net/forecast/{API_KEY}/{latitude},{longitude},{dt}' + \\\n",
    "                   '?exclude=[currently,flags,minutely,daily,alerts]'\n",
    "\n",
    "            r = requests.get(url)\n",
    "            data = r.json()\n",
    "\n",
    "            for item in data['hourly']['data']:\n",
    "                dt = datetime.fromtimestamp(int(item['time']))\n",
    "                item['time'] = dt.strftime(\"%Y-%m-%d %H:%M:%S\")\n",
    "                f.write(f'{item}\\n')\n",
    "                f.flush()\n",
    "\n",
    "            curr_date += period\n",
    "            sleep_time = 5\n",
    "\n",
    "        except Exception as e:\n",
    "            time.sleep(sleep_time)\n",
    "            sleep_time += 5\n",
    "\n",
    "    f.close()"
   ]
  },
  {
   "cell_type": "markdown",
   "metadata": {},
   "source": [
    "### Format the weather data"
   ]
  },
  {
   "cell_type": "code",
   "execution_count": null,
   "metadata": {},
   "outputs": [],
   "source": [
    "attributes = ['apparentTemperature', 'cloudCover', 'dewPoint', 'humidity', 'icon', 'ozone',\n",
    "             'precipAccumulation', 'precipAccumulation', 'precipIntensity', 'precipProbability', \n",
    "             'precipType', 'pressure', 'summary', 'temperature', 'uvIndex', 'visibility',\n",
    "             'windBearing', 'windGust', 'windSpeed']"
   ]
  },
  {
   "cell_type": "code",
   "execution_count": null,
   "metadata": {},
   "outputs": [],
   "source": [
    "for station in stations:\n",
    "    data = {}\n",
    "\n",
    "    with open(f'./data/raw-weather/{station}', 'r') as f:\n",
    "        for line in f:\n",
    "            line = line.replace('\\'', '\\\"')\n",
    "            item = json.loads(line)\n",
    "            data[item['time']] = [item[att] if att in item else np.nan for att in attributes]\n",
    "\n",
    "    df = pd.DataFrame.from_dict(data, orient='index', columns=attributes)\n",
    "    df.to_csv(f'./data/formatted-weather/{station}', index=True)"
   ]
  },
  {
   "cell_type": "code",
   "execution_count": null,
   "metadata": {},
   "outputs": [],
   "source": []
  }
 ],
 "metadata": {
  "kernelspec": {
   "display_name": "Python 3.6 (tensorflow)",
   "language": "python",
   "name": "tensorflow"
  },
  "language_info": {
   "codemirror_mode": {
    "name": "ipython",
    "version": 3
   },
   "file_extension": ".py",
   "mimetype": "text/x-python",
   "name": "python",
   "nbconvert_exporter": "python",
   "pygments_lexer": "ipython3",
   "version": "3.6.10"
  }
 },
 "nbformat": 4,
 "nbformat_minor": 4
}
