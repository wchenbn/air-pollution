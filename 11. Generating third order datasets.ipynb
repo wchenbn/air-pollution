{
 "cells": [
  {
   "cell_type": "code",
   "execution_count": 1,
   "metadata": {
    "scrolled": true
   },
   "outputs": [],
   "source": [
    "import pandas as pd\n",
    "import numpy as np\n",
    "\n",
    "np.set_printoptions(precision=6, suppress=True)"
   ]
  },
  {
   "cell_type": "code",
   "execution_count": 2,
   "metadata": {},
   "outputs": [],
   "source": [
    "df_train = pd.read_csv('./data/second-order/Centar/train', index_col=0)\n",
    "df_valid = pd.read_csv('./data/second-order/Centar/validation', index_col=0)\n",
    "df_test = pd.read_csv('./data/second-order/Centar/test', index_col=0)"
   ]
  },
  {
   "cell_type": "code",
   "execution_count": 3,
   "metadata": {},
   "outputs": [],
   "source": [
    "def build_seq2seq_datasets(dataset, history = 24, target_size = 12):\n",
    "    start_index = history\n",
    "    end_index = len(dataset) - target_size\n",
    "    \n",
    "    # Selecting the appropriate columns from the dataset\n",
    "    encoder_input_dataset = dataset.values.copy()\n",
    "    decoder_input_dataset = dataset.drop(['PM25', 'PM10_missing', 'PM25_missing'],\n",
    "                                         axis=1).values.copy()\n",
    "    decoder_target_dataset = dataset[['PM10']].values.copy()\n",
    "    decoder_missing_dataset = dataset[['PM10_missing']].values.copy()\n",
    "\n",
    "    # These lists will hold the final (third-order) datasets\n",
    "    encoder_input_data = []\n",
    "    decoder_input_data = []\n",
    "    decoder_target_data = []\n",
    "    \n",
    "    for i in range(start_index, end_index):\n",
    "        encoder_input_values = encoder_input_dataset[i-history:i]\n",
    "        decoder_input_values = decoder_input_dataset[i:i+target_size]\n",
    "        decoder_target_values = decoder_target_dataset[i+1:i+1+target_size]\n",
    "        decoder_missing_values = decoder_missing_dataset[i+1:i+1+target_size]\n",
    "        \n",
    "        # If any of the target values has been imputed (i.e. was missing), skip the sample\n",
    "        if np.any(decoder_missing_values == 1):\n",
    "            continue\n",
    "            \n",
    "        encoder_input_data.append(encoder_input_values)\n",
    "        decoder_input_data.append(decoder_input_values)\n",
    "        decoder_target_data.append(decoder_target_values)\n",
    "\n",
    "    encoder_input_data = np.array(encoder_input_data).reshape(-1, \n",
    "                                                              history, \n",
    "                                                              encoder_input_dataset.shape[1])\n",
    "    decoder_input_data = np.array(decoder_input_data).reshape(-1, \n",
    "                                                              target_size, \n",
    "                                                              decoder_input_dataset.shape[1])\n",
    "    decoder_target_data = np.array(decoder_target_data).reshape(-1, \n",
    "                                                                target_size, \n",
    "                                                                decoder_target_dataset.shape[1])\n",
    "        \n",
    "    return encoder_input_data, decoder_input_data, decoder_target_data"
   ]
  },
  {
   "cell_type": "code",
   "execution_count": 4,
   "metadata": {},
   "outputs": [],
   "source": [
    "train_encoder_input_data, train_decoder_input_data, train_decoder_target_data = \\\n",
    "        build_seq2seq_datasets(df_train)\n",
    "\n",
    "valid_encoder_input_data, valid_decoder_input_data, valid_decoder_target_data = \\\n",
    "        build_seq2seq_datasets(df_valid)\n",
    "\n",
    "test_encoder_input_data, test_decoder_input_data, test_decoder_target_data = \\\n",
    "        build_seq2seq_datasets(df_test)"
   ]
  },
  {
   "cell_type": "code",
   "execution_count": 5,
   "metadata": {},
   "outputs": [],
   "source": [
    "np.save('./data/third-order/Centar/train_encoder_input_data.npy', train_encoder_input_data)\n",
    "np.save('./data/third-order/Centar/train_decoder_input_data.npy', train_decoder_input_data)\n",
    "np.save('./data/third-order/Centar/train_decoder_target_data.npy', train_decoder_target_data)\n",
    "\n",
    "np.save('./data/third-order/Centar/valid_encoder_input_data.npy', valid_encoder_input_data)\n",
    "np.save('./data/third-order/Centar/valid_decoder_input_data.npy', valid_decoder_input_data)\n",
    "np.save('./data/third-order/Centar/valid_decoder_target_data.npy', valid_decoder_target_data)\n",
    "\n",
    "np.save('./data/third-order/Centar/test_encoder_input_data.npy', test_encoder_input_data)\n",
    "np.save('./data/third-order/Centar/test_decoder_input_data.npy', test_decoder_input_data)\n",
    "np.save('./data/third-order/Centar/test_decoder_target_data.npy', test_decoder_target_data)"
   ]
  },
  {
   "cell_type": "code",
   "execution_count": null,
   "metadata": {},
   "outputs": [],
   "source": []
  }
 ],
 "metadata": {
  "kernelspec": {
   "display_name": "Python 3.6 (tensorflow)",
   "language": "python",
   "name": "tensorflow"
  },
  "language_info": {
   "codemirror_mode": {
    "name": "ipython",
    "version": 3
   },
   "file_extension": ".py",
   "mimetype": "text/x-python",
   "name": "python",
   "nbconvert_exporter": "python",
   "pygments_lexer": "ipython3",
   "version": "3.6.10"
  }
 },
 "nbformat": 4,
 "nbformat_minor": 4
}
