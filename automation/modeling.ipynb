{
 "cells": [
  {
   "cell_type": "markdown",
   "metadata": {},
   "source": [
    "This notebook is used to find the best model architectures for each dataset locally, or rather on Google Cloud due to GPU availability. The models are being retrained every once in a while in order to adapt to the change of distribution and data availability. "
   ]
  },
  {
   "cell_type": "markdown",
   "metadata": {},
   "source": [
    "## Google Colab utils (set GPU!)"
   ]
  },
  {
   "cell_type": "code",
   "execution_count": null,
   "metadata": {},
   "outputs": [],
   "source": [
    "!pip install keras-tuner"
   ]
  },
  {
   "cell_type": "code",
   "execution_count": null,
   "metadata": {},
   "outputs": [],
   "source": [
    "from google.colab import drive\n",
    "drive.mount('/gdrive')\n",
    "%cd \"/gdrive/My Drive/air-pollution-app\""
   ]
  },
  {
   "cell_type": "markdown",
   "metadata": {},
   "source": [
    "# Modeling"
   ]
  },
  {
   "cell_type": "code",
   "execution_count": 1,
   "metadata": {},
   "outputs": [],
   "source": [
    "import warnings\n",
    "warnings.filterwarnings('ignore')\n",
    "\n",
    "from models import *\n",
    "from config import *\n",
    "from kerastuner.tuners import RandomSearch\n",
    "from tensorflow.keras.models import load_model\n",
    "\n",
    "import numpy as np\n",
    "import pandas as pd\n",
    "import matplotlib.pyplot as plt\n",
    "import seaborn as sns\n",
    "from data_utils import *"
   ]
  },
  {
   "cell_type": "markdown",
   "metadata": {},
   "source": [
    "### 0. Download the data"
   ]
  },
  {
   "cell_type": "code",
   "execution_count": 2,
   "metadata": {
    "scrolled": true
   },
   "outputs": [],
   "source": [
    "# training_data_pipeline()"
   ]
  },
  {
   "cell_type": "code",
   "execution_count": 3,
   "metadata": {
    "scrolled": true
   },
   "outputs": [],
   "source": [
    "# for station in SENSORS:\n",
    "#     train_encoder_input_data = np.load(f'./data/training/third-order/{station}/train_encoder_input_data.npy')\n",
    "#     valid_encoder_input_data = np.load(f'./data/training/third-order/{station}/valid_encoder_input_data.npy')\n",
    "    \n",
    "#     print(f'{station}:', train_encoder_input_data.shape[0], '-', valid_encoder_input_data.shape[0])"
   ]
  },
  {
   "cell_type": "markdown",
   "metadata": {},
   "source": [
    "### 1. Load the data"
   ]
  },
  {
   "cell_type": "code",
   "execution_count": 4,
   "metadata": {},
   "outputs": [],
   "source": [
    "# Set the station\n",
    "station = 'Centar'"
   ]
  },
  {
   "cell_type": "code",
   "execution_count": 5,
   "metadata": {},
   "outputs": [],
   "source": [
    "train_encoder_input_data = np.load(f'./data/training/third-order/{station}/train_encoder_input_data.npy')\n",
    "train_decoder_input_data = np.load(f'./data/training/third-order/{station}/train_decoder_input_data.npy')\n",
    "train_decoder_target_data = np.load(f'./data/training/third-order/{station}/train_decoder_target_data.npy')\n",
    "\n",
    "valid_encoder_input_data = np.load(f'./data/training/third-order/{station}/valid_encoder_input_data.npy')\n",
    "valid_decoder_input_data = np.load(f'./data/training/third-order/{station}/valid_decoder_input_data.npy')\n",
    "valid_decoder_target_data = np.load(f'./data/training/third-order/{station}/valid_decoder_target_data.npy')"
   ]
  },
  {
   "cell_type": "code",
   "execution_count": 6,
   "metadata": {},
   "outputs": [
    {
     "name": "stdout",
     "output_type": "stream",
     "text": [
      "(57900, 24, 23) (57900, 12, 21) (57900, 12, 2)\n",
      "(9529, 24, 23) (9529, 12, 21) (9529, 12, 2)\n"
     ]
    }
   ],
   "source": [
    "print(train_encoder_input_data.shape, train_decoder_input_data.shape, train_decoder_target_data.shape)\n",
    "print(valid_encoder_input_data.shape, valid_decoder_input_data.shape, valid_decoder_target_data.shape)"
   ]
  },
  {
   "cell_type": "code",
   "execution_count": 7,
   "metadata": {},
   "outputs": [],
   "source": [
    "# due to the model architecture, we need to transform the output shape and type\n",
    "train_attentive_decoder_target_data = list(np.swapaxes(\n",
    "                                              train_decoder_target_data, 0, 1))\n",
    "valid_attentive_decoder_target_data = list(np.swapaxes(\n",
    "                                              valid_decoder_target_data, 0, 1))"
   ]
  },
  {
   "cell_type": "code",
   "execution_count": 8,
   "metadata": {},
   "outputs": [],
   "source": [
    "m_train, Tx, encoder_input_dim = train_encoder_input_data.shape\n",
    "    \n",
    "Ty, decoder_input_dim = (train_decoder_input_data.shape[1], \n",
    "                         train_decoder_input_data.shape[2])\n",
    "\n",
    "decoder_output_dim = train_decoder_target_data.shape[2]\n",
    "\n",
    "m_val = valid_encoder_input_data.shape[0]"
   ]
  },
  {
   "cell_type": "code",
   "execution_count": 9,
   "metadata": {},
   "outputs": [],
   "source": [
    "batch_size = 64\n",
    "epochs = 100\n",
    "patience = 10\n",
    "max_trials = 200\n",
    "executions_per_trial = 1"
   ]
  },
  {
   "cell_type": "markdown",
   "metadata": {},
   "source": [
    "### 2. Random search\n",
    "\n",
    "Make sure to delete the keras-tuner dir for every random search."
   ]
  },
  {
   "cell_type": "code",
   "execution_count": 10,
   "metadata": {},
   "outputs": [],
   "source": [
    "model_builder = HyperAttentiveSeq2Seq(Tx, Ty, encoder_input_dim, decoder_input_dim,\n",
    "                                decoder_output_dim)\n",
    "tuner = RandomSearch(model_builder,\n",
    "                     objective='val_loss',\n",
    "                     max_trials=max_trials,\n",
    "                     executions_per_trial=executions_per_trial,\n",
    "                     directory='keras-tuner', \n",
    "                     project_name=station)"
   ]
  },
  {
   "cell_type": "markdown",
   "metadata": {},
   "source": [
    "**If an epoch takes longer than 3 minutes, you probably forgot to set GPU :))**"
   ]
  },
  {
   "cell_type": "code",
   "execution_count": null,
   "metadata": {},
   "outputs": [
    {
     "name": "stderr",
     "output_type": "stream",
     "text": [
      "Traceback (most recent call last):\n",
      "  File \"/home/zafir/miniconda3/envs/tensorflow/lib/python3.6/site-packages/tensorflow_core/python/framework/ops.py\", line 2326, in get_attr\n",
      "    c_api.TF_OperationGetAttrValueProto(self._c_op, name, buf)\n",
      "tensorflow.python.framework.errors_impl.InvalidArgumentError: Operation 'split_2' has no attr named '_XlaCompile'.\n",
      "\n",
      "During handling of the above exception, another exception occurred:\n",
      "\n",
      "Traceback (most recent call last):\n",
      "  File \"/home/zafir/miniconda3/envs/tensorflow/lib/python3.6/site-packages/tensorflow_core/python/ops/gradients_util.py\", line 331, in _MaybeCompile\n",
      "    xla_compile = op.get_attr(\"_XlaCompile\")\n",
      "  File \"/home/zafir/miniconda3/envs/tensorflow/lib/python3.6/site-packages/tensorflow_core/python/framework/ops.py\", line 2330, in get_attr\n",
      "    raise ValueError(str(e))\n",
      "ValueError: Operation 'split_2' has no attr named '_XlaCompile'.\n",
      "\n",
      "During handling of the above exception, another exception occurred:\n",
      "\n",
      "Traceback (most recent call last):\n",
      "  File \"/home/zafir/miniconda3/envs/tensorflow/lib/python3.6/site-packages/kerastuner/engine/hypermodel.py\", line 105, in build\n",
      "    model = self.hypermodel.build(hp)\n",
      "  File \"/home/zafir/google-drive/air-pollution-app/models.py\", line 141, in build\n",
      "    _, h, c = decoder_lstm(z)\n",
      "  File \"/home/zafir/miniconda3/envs/tensorflow/lib/python3.6/site-packages/tensorflow_core/python/keras/layers/recurrent.py\", line 644, in __call__\n",
      "    return super(RNN, self).__call__(inputs, **kwargs)\n",
      "  File \"/home/zafir/miniconda3/envs/tensorflow/lib/python3.6/site-packages/tensorflow_core/python/keras/engine/base_layer.py\", line 773, in __call__\n",
      "    outputs = call_fn(cast_inputs, *args, **kwargs)\n",
      "  File \"/home/zafir/miniconda3/envs/tensorflow/lib/python3.6/site-packages/tensorflow_core/python/keras/layers/recurrent_v2.py\", line 1150, in call\n",
      "    runtime) = lstm_with_backend_selection(**normal_lstm_kwargs)\n",
      "  File \"/home/zafir/miniconda3/envs/tensorflow/lib/python3.6/site-packages/tensorflow_core/python/keras/layers/recurrent_v2.py\", line 1511, in lstm_with_backend_selection\n",
      "    function.register(defun_cudnn_lstm, **params)\n",
      "  File \"/home/zafir/miniconda3/envs/tensorflow/lib/python3.6/site-packages/tensorflow_core/python/eager/function.py\", line 2731, in register\n",
      "    concrete_func.add_gradient_functions_to_graph()\n",
      "  File \"/home/zafir/miniconda3/envs/tensorflow/lib/python3.6/site-packages/tensorflow_core/python/eager/function.py\", line 1821, in add_gradient_functions_to_graph\n",
      "    self._delayed_rewrite_functions.forward_backward())\n",
      "  File \"/home/zafir/miniconda3/envs/tensorflow/lib/python3.6/site-packages/tensorflow_core/python/eager/function.py\", line 616, in forward_backward\n",
      "    forward, backward = self._construct_forward_backward(num_doutputs)\n",
      "  File \"/home/zafir/miniconda3/envs/tensorflow/lib/python3.6/site-packages/tensorflow_core/python/eager/function.py\", line 664, in _construct_forward_backward\n",
      "    func_graph=backwards_graph)\n",
      "  File \"/home/zafir/miniconda3/envs/tensorflow/lib/python3.6/site-packages/tensorflow_core/python/framework/func_graph.py\", line 978, in func_graph_from_py_func\n",
      "    func_outputs = python_func(*func_args, **func_kwargs)\n",
      "  File \"/home/zafir/miniconda3/envs/tensorflow/lib/python3.6/site-packages/tensorflow_core/python/eager/function.py\", line 654, in _backprop_function\n",
      "    src_graph=self._func_graph)\n",
      "  File \"/home/zafir/miniconda3/envs/tensorflow/lib/python3.6/site-packages/tensorflow_core/python/ops/gradients_util.py\", line 669, in _GradientsHelper\n",
      "    lambda: grad_fn(op, *out_grads))\n",
      "  File \"/home/zafir/miniconda3/envs/tensorflow/lib/python3.6/site-packages/tensorflow_core/python/ops/gradients_util.py\", line 336, in _MaybeCompile\n",
      "    return grad_fn()  # Exit early\n",
      "  File \"/home/zafir/miniconda3/envs/tensorflow/lib/python3.6/site-packages/tensorflow_core/python/ops/gradients_util.py\", line 669, in <lambda>\n",
      "    lambda: grad_fn(op, *out_grads))\n",
      "  File \"/home/zafir/miniconda3/envs/tensorflow/lib/python3.6/site-packages/tensorflow_core/python/ops/array_grad.py\", line 307, in _SplitGrad\n",
      "    return None, array_ops.concat(list(grads), op.inputs[0])\n",
      "  File \"/home/zafir/miniconda3/envs/tensorflow/lib/python3.6/site-packages/tensorflow_core/python/util/dispatch.py\", line 180, in wrapper\n",
      "    return target(*args, **kwargs)\n",
      "  File \"/home/zafir/miniconda3/envs/tensorflow/lib/python3.6/site-packages/tensorflow_core/python/ops/array_ops.py\", line 1517, in concat\n",
      "    return gen_array_ops.concat_v2(values=values, axis=axis, name=name)\n",
      "  File \"/home/zafir/miniconda3/envs/tensorflow/lib/python3.6/site-packages/tensorflow_core/python/ops/gen_array_ops.py\", line 1126, in concat_v2\n",
      "    \"ConcatV2\", values=values, axis=axis, name=name)\n",
      "  File \"/home/zafir/miniconda3/envs/tensorflow/lib/python3.6/site-packages/tensorflow_core/python/framework/op_def_library.py\", line 742, in _apply_op_helper\n",
      "    attrs=attr_protos, op_def=op_def)\n",
      "  File \"/home/zafir/miniconda3/envs/tensorflow/lib/python3.6/site-packages/tensorflow_core/python/framework/func_graph.py\", line 591, in _create_op_internal\n",
      "    inp = self.capture(inp)\n",
      "  File \"/home/zafir/miniconda3/envs/tensorflow/lib/python3.6/site-packages/tensorflow_core/python/framework/func_graph.py\", line 643, in capture\n",
      "    return self._capture_helper(tensor, name)\n",
      "  File \"/home/zafir/miniconda3/envs/tensorflow/lib/python3.6/site-packages/tensorflow_core/python/framework/func_graph.py\", line 650, in _capture_helper\n",
      "    tensor, name=name, dtype=tensor.dtype, shape=shape)\n",
      "  File \"/home/zafir/miniconda3/envs/tensorflow/lib/python3.6/site-packages/tensorflow_core/python/framework/func_graph.py\", line 1119, in _create_substitute_placeholder\n",
      "    dtype=dtype or value.dtype, shape=shape, name=name)\n",
      "  File \"/home/zafir/miniconda3/envs/tensorflow/lib/python3.6/site-packages/tensorflow_core/python/eager/graph_only_ops.py\", line 38, in graph_placeholder\n",
      "    attrs={\"dtype\": dtype_value, \"shape\": shape}, name=name)\n",
      "  File \"/home/zafir/miniconda3/envs/tensorflow/lib/python3.6/site-packages/tensorflow_core/python/framework/func_graph.py\", line 595, in _create_op_internal\n",
      "    compute_device)\n",
      "  File \"/home/zafir/miniconda3/envs/tensorflow/lib/python3.6/site-packages/tensorflow_core/python/framework/ops.py\", line 3313, in _create_op_internal\n",
      "    with self._mutation_lock():\n",
      "  File \"/home/zafir/miniconda3/envs/tensorflow/lib/python3.6/site-packages/tensorflow_core/python/framework/ops.py\", line 4999, in _mutation_lock\n",
      "    return self._group_lock.group(_MUTATION_LOCK_GROUP)\n",
      "  File \"/home/zafir/miniconda3/envs/tensorflow/lib/python3.6/site-packages/tensorflow_core/python/util/lock_util.py\", line 83, in group\n",
      "    self._validate_group_id(group_id)\n",
      "  File \"/home/zafir/miniconda3/envs/tensorflow/lib/python3.6/site-packages/tensorflow_core/python/util/lock_util.py\", line 111, in _validate_group_id\n",
      "    if group_id < 0 or group_id >= self._num_groups:\n",
      "KeyboardInterrupt\n"
     ]
    },
    {
     "data": {
      "text/html": [
       "<span style=\"color:yellow\">[Warning] Invalid model 0/5</span>"
      ],
      "text/plain": [
       "<IPython.core.display.HTML object>"
      ]
     },
     "metadata": {},
     "output_type": "display_data"
    }
   ],
   "source": [
    "tuner.search(x=[train_encoder_input_data, \n",
    "                train_decoder_input_data], \n",
    "             y=train_attentive_decoder_target_data,\n",
    "             validation_data=([\n",
    "                valid_encoder_input_data,\n",
    "                valid_decoder_input_data],\n",
    "                valid_attentive_decoder_target_data),\n",
    "             batch_size=batch_size,\n",
    "             epochs=epochs,\n",
    "             verbose=0,\n",
    "             callbacks=[EarlyStopping(monitor='val_loss', \n",
    "                                      patience=patience, \n",
    "                                      verbose=1),\n",
    "                        LossPrintingCallback()])"
   ]
  },
  {
   "cell_type": "code",
   "execution_count": null,
   "metadata": {},
   "outputs": [],
   "source": [
    "tuner.results_summary()"
   ]
  },
  {
   "cell_type": "markdown",
   "metadata": {},
   "source": [
    "### 3. Training the best-performing model"
   ]
  },
  {
   "cell_type": "code",
   "execution_count": 10,
   "metadata": {},
   "outputs": [],
   "source": [
    "# best hyperparameters\n",
    "hp = best_hyperparameters[station]\n",
    "encoder_latent_dim = hp['encoder_latent_dim']\n",
    "decoder_latent_dim = hp['decoder_latent_dim']\n",
    "attention_dense_dim = hp['attention_dense_dim']\n",
    "seq_dropout_rate = hp['seq_dropout_rate']\n",
    "dense_dropout_rate = hp['dense_dropout_rate']\n",
    "learning_rate = hp['learning_rate']"
   ]
  },
  {
   "cell_type": "code",
   "execution_count": 11,
   "metadata": {},
   "outputs": [],
   "source": [
    "h0_train = np.zeros((m_train, decoder_latent_dim))\n",
    "c0_train = np.zeros((m_train, decoder_latent_dim))\n",
    "\n",
    "h0_val = np.zeros((m_val, decoder_latent_dim))\n",
    "c0_val = np.zeros((m_val, decoder_latent_dim))"
   ]
  },
  {
   "cell_type": "code",
   "execution_count": 12,
   "metadata": {},
   "outputs": [],
   "source": [
    "model_builder = AttentiveSeq2SeqModelBuilder(Tx, Ty, encoder_input_dim, \n",
    "                                             decoder_input_dim, decoder_output_dim, \n",
    "                                             len(SENSORS[station]), encoder_latent_dim, \n",
    "                                             decoder_latent_dim, attention_dense_dim, \n",
    "                                             seq_dropout_rate, dense_dropout_rate, \n",
    "                                             learning_rate)"
   ]
  },
  {
   "cell_type": "code",
   "execution_count": 13,
   "metadata": {},
   "outputs": [],
   "source": [
    "model = model_builder.build_training_attentive_model()"
   ]
  },
  {
   "cell_type": "code",
   "execution_count": 14,
   "metadata": {},
   "outputs": [
    {
     "name": "stdout",
     "output_type": "stream",
     "text": [
      "[2020-07-21 17:49:11]\tepoch: 0\tloss: 1.99707\tval_loss:1.79687\n",
      "[2020-07-21 17:50:31]\tepoch: 1\tloss: 1.57304\tval_loss:1.74051\n"
     ]
    }
   ],
   "source": [
    "if not os.path.exists('./checkpoints'):\n",
    "    os.makedirs('./checkpoints')\n",
    "    \n",
    "if os.path.exists(f'./checkpoints/{station}.h5'):\n",
    "    os.remove(f'./checkpoints/{station}.h5')\n",
    "\n",
    "history = model.fit(x=[train_encoder_input_data, \n",
    "                       train_decoder_input_data,\n",
    "                       h0_train, c0_train], \n",
    "                    y=train_attentive_decoder_target_data,\n",
    "                    validation_data=([\n",
    "                       valid_encoder_input_data,\n",
    "                       valid_decoder_input_data, \n",
    "                       h0_val, c0_val],\n",
    "                       valid_attentive_decoder_target_data),\n",
    "                    batch_size=batch_size,\n",
    "                    epochs=2,\n",
    "                    verbose=0,\n",
    "                    callbacks=[LossPrintingCallback(),\n",
    "                               ModelCheckpoint(f'./checkpoints/{station}.h5',\n",
    "                                               save_best_only=True),\n",
    "                               EarlyStopping(monitor='val_loss', \n",
    "                                             patience=patience, \n",
    "                                             verbose=1)])"
   ]
  },
  {
   "cell_type": "code",
   "execution_count": 15,
   "metadata": {
    "scrolled": false
   },
   "outputs": [
    {
     "data": {
      "image/png": "[encoded data removed]",
      "text/plain": [
       "<Figure size 1080x576 with 1 Axes>"
      ]
     },
     "metadata": {
      "needs_background": "light"
     },
     "output_type": "display_data"
    }
   ],
   "source": [
    "plt.figure(figsize=(15, 8))\n",
    "plt.plot(history.history['loss'])\n",
    "plt.plot(history.history['val_loss'])\n",
    "plt.title('Model loss')\n",
    "plt.ylabel('loss')\n",
    "plt.xlabel('epoch')\n",
    "plt.legend(['train', 'val'], loc='upper left')\n",
    "plt.show()"
   ]
  },
  {
   "cell_type": "markdown",
   "metadata": {},
   "source": [
    "### 4. Build and save the inference model"
   ]
  },
  {
   "cell_type": "code",
   "execution_count": 16,
   "metadata": {},
   "outputs": [],
   "source": [
    "K.clear_session()\n",
    "best_model = load_model(f'./checkpoints/{station}.h5')"
   ]
  },
  {
   "cell_type": "code",
   "execution_count": 17,
   "metadata": {},
   "outputs": [],
   "source": [
    "model = model_builder.build_inference_attentive_model(best_model)"
   ]
  },
  {
   "cell_type": "code",
   "execution_count": 18,
   "metadata": {},
   "outputs": [],
   "source": [
    "if not os.path.exists('./inference-models'):\n",
    "    os.makedirs('./inference-models')\n",
    "    \n",
    "if os.path.exists(f'./inference-models/{station}.h5'):\n",
    "    os.remove(f'./inference-models/{station}.h5')\n",
    "    \n",
    "model.save(f'./inference-models/{station}.h5')"
   ]
  },
  {
   "cell_type": "code",
   "execution_count": 19,
   "metadata": {},
   "outputs": [
    {
     "name": "stdout",
     "output_type": "stream",
     "text": [
      "WARNING:tensorflow:No training configuration found in save file: the model was *not* compiled. Compile it manually.\n"
     ]
    }
   ],
   "source": [
    "model = load_model(f'./inference-models/{station}.h5')"
   ]
  },
  {
   "cell_type": "code",
   "execution_count": null,
   "metadata": {},
   "outputs": [],
   "source": []
  }
 ],
 "metadata": {
  "kernelspec": {
   "display_name": "Python 3.6 (tensorflow)",
   "language": "python",
   "name": "tensorflow"
  },
  "language_info": {
   "codemirror_mode": {
    "name": "ipython",
    "version": 3
   },
   "file_extension": ".py",
   "mimetype": "text/x-python",
   "name": "python",
   "nbconvert_exporter": "python",
   "pygments_lexer": "ipython3",
   "version": "3.6.10"
  }
 },
 "nbformat": 4,
 "nbformat_minor": 4
}
